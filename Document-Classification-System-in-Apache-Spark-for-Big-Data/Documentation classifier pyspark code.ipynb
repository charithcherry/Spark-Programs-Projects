{
 "cells": [
  {
   "cell_type": "code",
   "execution_count": 1,
   "id": "121d4f48",
   "metadata": {},
   "outputs": [],
   "source": [
    "import findspark\n",
    "findspark.init()"
   ]
  },
  {
   "cell_type": "code",
   "execution_count": 3,
   "id": "93a59a4e",
   "metadata": {},
   "outputs": [],
   "source": [
    "from pyspark.sql import SparkSession\n",
    "spark=SparkSession.builder\\\n",
    "                          .master(\"local\")\\\n",
    "                          .appName('classifier')\\\n",
    "                          .getOrCreate()\n",
    "sc=spark.sparkContext"
   ]
  },
  {
   "cell_type": "code",
   "execution_count": 4,
   "id": "aaa74e88",
   "metadata": {},
   "outputs": [],
   "source": [
    "import sys\n",
    "from pyspark import SparkConf, SparkContext\n",
    "from pyspark.sql import SQLContext\n",
    "from pyspark.sql.functions import *\n",
    "from pyspark.ml.feature import *\n",
    "from pyspark.ml.classification import *\n",
    "from pyspark.ml import Pipeline\n",
    "from pyspark.ml.feature import OneHotEncoder, StringIndexer, VectorAssembler\n",
    "from pyspark.ml.feature import HashingTF, IDF\n",
    "import nltk\n",
    "from nltk.corpus import stopwords"
   ]
  },
  {
   "cell_type": "code",
   "execution_count": 5,
   "id": "716abc77",
   "metadata": {},
   "outputs": [],
   "source": [
    "sqlContext = SQLContext(sc)"
   ]
  },
  {
   "cell_type": "code",
   "execution_count": 6,
   "id": "5bfd259e",
   "metadata": {},
   "outputs": [],
   "source": [
    "bus_df = spark.read.text('Data/business/*')\n",
    "bus_df = bus_df.withColumn(\"category\",lit(\"business\"))\n",
    "\n",
    "sport_df = spark.read.text('Data/sports/*')\n",
    "sport_df = sport_df.withColumn(\"category\",lit(\"sports\"))\n",
    "\n",
    "pol_df = spark.read.text('Data/politics/*')\n",
    "pol_df = pol_df.withColumn(\"category\",lit(\"politics\"))\n",
    "\n",
    "health_df = spark.read.text('Data/medical/*')\n",
    "health_df = health_df.withColumn(\"category\",lit(\"medical\"))\n",
    "\n",
    "merge_df1 = bus_df.union(sport_df)\n",
    "merge_df2 = merge_df1.union(pol_df)\n",
    "merge_df3 = merge_df2.union(health_df)"
   ]
  },
  {
   "cell_type": "code",
   "execution_count": 7,
   "id": "480da682",
   "metadata": {},
   "outputs": [],
   "source": [
    "merge_df1 = bus_df.union(sport_df)\n",
    "merge_df2 = merge_df1.union(pol_df)\n",
    "merge_df3 = merge_df2.union(health_df)"
   ]
  },
  {
   "cell_type": "code",
   "execution_count": 8,
   "id": "eb295cca",
   "metadata": {},
   "outputs": [],
   "source": [
    "data = merge_df3.select([column for column in merge_df3.columns])\n"
   ]
  },
  {
   "cell_type": "code",
   "execution_count": 9,
   "id": "2f21b747",
   "metadata": {},
   "outputs": [
    {
     "name": "stdout",
     "output_type": "stream",
     "text": [
      "+--------------------+--------+\n",
      "|               value|category|\n",
      "+--------------------+--------+\n",
      "|   Sections SEARC...|business|\n",
      "|   Sections SEARC...|business|\n",
      "|             NYTi...|business|\n",
      "|   Image Credit P...|business|\n",
      "|             NYTi...|business|\n",
      "+--------------------+--------+\n",
      "only showing top 5 rows\n",
      "\n"
     ]
    }
   ],
   "source": [
    "data.show(5)\n"
   ]
  },
  {
   "cell_type": "code",
   "execution_count": 10,
   "id": "51853548",
   "metadata": {},
   "outputs": [
    {
     "name": "stdout",
     "output_type": "stream",
     "text": [
      "+--------------------+--------+\n",
      "|               value|category|\n",
      "+--------------------+--------+\n",
      "|   Sections SEARC...|business|\n",
      "|             NYTi...|business|\n",
      "|   Sections SEARC...|business|\n",
      "|             NYTi...|business|\n",
      "|   Sections SEARC...|business|\n",
      "+--------------------+--------+\n",
      "only showing top 5 rows\n",
      "\n"
     ]
    }
   ],
   "source": [
    "bus_udf = spark.read.text('Data/unknown/business/*')\n",
    "bus_udf = bus_udf.withColumn(\"category\",lit(\"business\"))\n",
    "\n",
    "sport_udf = spark.read.text('Data/unknown/sports/*')\n",
    "sport_udf = sport_udf.withColumn(\"category\",lit(\"sports\"))\n",
    "\n",
    "pol_udf = spark.read.text('Data/unknown/politics/*')\n",
    "pol_udf = pol_udf.withColumn(\"category\",lit(\"politics\"))\n",
    "\n",
    "health_udf = spark.read.text('Data/unknown/medical/*')\n",
    "health_udf = health_udf.withColumn(\"category\",lit(\"medical\"))\n",
    "\n",
    "merge_udf1 = bus_udf.union(sport_udf)\n",
    "merge_udf2 = merge_udf1.union(pol_udf)\n",
    "merge_udf3 = merge_udf2.union(health_udf)\n",
    "\n",
    "unknown_data = merge_udf3.select([column for column in merge_udf3.columns])\n",
    "unknown_data.show(5)"
   ]
  },
  {
   "cell_type": "code",
   "execution_count": 11,
   "id": "3e116b59",
   "metadata": {},
   "outputs": [],
   "source": [
    "regexTokenizer = RegexTokenizer(inputCol=\"value\", outputCol=\"words\", pattern=\"\\\\W\")"
   ]
  },
  {
   "cell_type": "code",
   "execution_count": 13,
   "id": "7d2754bd",
   "metadata": {},
   "outputs": [
    {
     "name": "stderr",
     "output_type": "stream",
     "text": [
      "[nltk_data] Downloading package stopwords to\n",
      "[nltk_data]     C:\\Users\\Chakravarthi\\AppData\\Roaming\\nltk_data...\n",
      "[nltk_data]   Unzipping corpora\\stopwords.zip.\n"
     ]
    },
    {
     "data": {
      "text/plain": [
       "True"
      ]
     },
     "execution_count": 13,
     "metadata": {},
     "output_type": "execute_result"
    }
   ],
   "source": [
    "nltk.download('stopwords')"
   ]
  },
  {
   "cell_type": "code",
   "execution_count": 14,
   "id": "e250ffc9",
   "metadata": {},
   "outputs": [],
   "source": [
    "add_stopwords=nltk.corpus.stopwords.words('english')\n",
    "add_stopwords_1 = [\"nytimes\",\"com\",\"sense\",\"day\",\"common\",\"business\",\"todays\",\"said\",\"food\",\"review\",\"sunday\",\"letters\",\"politics\",\"events\",\"terms\",\"services\",\"years\",\"contributors\",\"companies\",\"listings\",\"applications\",\"tax\",\"trump\",\"president\",\"contributing\",\"make\",\"think\",\"woman\",\"federal\",\"called\",\"system\",\"found\",\"american\",\"sale\",\"headline\",\"arts\",\"times\",\"subscriptions\",\"choices\",\"privacy\",\"take\",\"jobs\",\"books\",\"account\",\"accounts\",\"television\",\"nyc\",\"writers\",\"multimedia\",\"journeys\",\"editorials\",\"photography\",\"automobiles\",\"paper\",\"city\",\"tool\",\"sports\",\"weddings\",\"columnists\",\"contribution\",\"even\",\"nyt\",\"obituary\",\"state\",\"travel\",\"advertise\",\"pm\",\"street\",\"go\",\"corrections\",\"saturday\",\"company\",\"dance\",\"states\",\"real\",\"movies\",\"estate\",\"percent\",\"music\",\"tech\",\"living\",\"science\",\"fashion\",\"please\",\"opinion\",\"art\",\"new\",\"york\",\"time\",\"u\",\"wa\",\"reading\",\"ha\",\"video\",\"image\",\"photo\",\"credit\",\"edition\",\"magazine\",\"oped\",\"could\",\"crossword\",\"mr\",\"term\",\"feedback\",\"index\",\"get\",\"also\",\"b\",\"help\",\"year\",\"health\",\"united\",\"education\",\"week\",\"think\",\"guide\",\"event\",\"two\",\"first\",\"subscription\",\"service\",\"cut\",\"is\",\"nytimescom\",\"section\",\"sections\",\"Sections\",\"Home\",\"home\",\"Search\",\"search\",\"Skip\",\"skip\",\"content\",\"navigation\",\"View\",\"view\",\"mobile\",\"version\",\"Subscribe\",\"subscribe\",\"Now\",\"now\",\"Log\",\"log\",\"In\",\"in\",\"setting\",\"settings\",\"Site\",\"site\",\"Loading\",\"loading\",\"article\",\"next\",\"previous\",\"Advertisement\",\"ad\",\"advertisement\",\"Supported\",\"supported\",\"by\",\"Share\",\"share\",\"Page\",\"page\",\"Continue\",\"continue\",\"main\",\"story\",\"newsletter\",\"Sign\",\"Up\",\"Manage\",\"email\",\"preferences\",\"Not\",\"you\",\"opt\",\"out\",\"contact\",\"us\",\"anytime\",\"thank\",\"subscribing\",\"see\",\"more\",\"email\"] \n",
    "stopwordsRemover = StopWordsRemover(inputCol=\"words\", outputCol=\"filtered1\").setStopWords(add_stopwords)\n",
    "stopwordsRemover1 = StopWordsRemover(inputCol=\"filtered1\", outputCol=\"filtered\").setStopWords(add_stopwords_1)\n"
   ]
  },
  {
   "cell_type": "code",
   "execution_count": 15,
   "id": "80359599",
   "metadata": {},
   "outputs": [],
   "source": [
    "label_stringIdx = StringIndexer(inputCol = \"category\", outputCol = \"label\")\n",
    "hashingTF = HashingTF(inputCol=\"filtered\", outputCol=\"rawFeatures\", numFeatures=1000)\n",
    "idf = IDF(inputCol=\"rawFeatures\", outputCol=\"features\", minDocFreq=5) #minDocFreq: remove sparse terms\n",
    "pipeline = Pipeline(stages=[regexTokenizer, stopwordsRemover,stopwordsRemover1, hashingTF, idf, label_stringIdx])"
   ]
  },
  {
   "cell_type": "code",
   "execution_count": 16,
   "id": "6d210477",
   "metadata": {},
   "outputs": [
    {
     "name": "stdout",
     "output_type": "stream",
     "text": [
      "+--------------------+--------+--------------------+--------------------+--------------------+--------------------+--------------------+-----+\n",
      "|               value|category|               words|           filtered1|            filtered|         rawFeatures|            features|label|\n",
      "+--------------------+--------+--------------------+--------------------+--------------------+--------------------+--------------------+-----+\n",
      "|   Sections SEARC...|business|[sections, search...|[sections, search...|[transcript, repu...|(1000,[0,1,2,3,5,...|(1000,[0,1,2,3,5,...|  2.0|\n",
      "|   Sections SEARC...|business|[sections, search...|[sections, search...|[transcript, demo...|(1000,[0,1,2,3,7,...|(1000,[0,1,2,3,7,...|  2.0|\n",
      "|             NYTi...|business|[nytimes, com, no...|[nytimes, com, lo...|[longer, supports...|(1000,[0,1,2,3,6,...|(1000,[0,1,2,3,6,...|  2.0|\n",
      "|   Image Credit P...|business|[image, credit, p...|[image, credit, p...|[prop, styling, p...|(1000,[0,1,2,3,5,...|(1000,[0,1,2,3,5,...|  2.0|\n",
      "|             NYTi...|business|[nytimes, com, no...|[nytimes, com, lo...|[longer, supports...|(1000,[0,1,2,3,7,...|(1000,[0,1,2,3,7,...|  2.0|\n",
      "+--------------------+--------+--------------------+--------------------+--------------------+--------------------+--------------------+-----+\n",
      "only showing top 5 rows\n",
      "\n"
     ]
    }
   ],
   "source": [
    "pipelineFit = pipeline.fit(data)\n",
    "dataset = pipelineFit.transform(data)\n",
    "dataset.show(5)\n",
    "(trainingData, testData) = dataset.randomSplit([0.8, 0.2], seed = 100)\n",
    "lr = LogisticRegression(maxIter=20, regParam=0.3, elasticNetParam=0)\n",
    "lrModel = lr.fit(trainingData)"
   ]
  },
  {
   "cell_type": "code",
   "execution_count": 17,
   "id": "8debf96b",
   "metadata": {},
   "outputs": [
    {
     "name": "stdout",
     "output_type": "stream",
     "text": [
      "+------------------------------+--------+------------------------------+-----+----------+\n",
      "|                         value|category|                   probability|label|prediction|\n",
      "+------------------------------+--------+------------------------------+-----+----------+\n",
      "|            NYTimes.com no ...|politics|[0.9999871534388363,1.29209...|  0.0|       0.0|\n",
      "|             NYTimes.com no...|politics|[0.9868358293776673,0.00503...|  0.0|       0.0|\n",
      "|             NYTimes.com no...|politics|[0.9808640473510387,0.01207...|  0.0|       0.0|\n",
      "|   Sections SEARCH Skip to ...|politics|[0.9790239641585076,0.00353...|  0.0|       0.0|\n",
      "|   Sections SEARCH Skip to ...|politics|[0.9721610236099645,0.01183...|  0.0|       0.0|\n",
      "|   Sections SEARCH Skip to ...|politics|[0.9441271568827793,0.00510...|  0.0|       0.0|\n",
      "|   Sections SEARCH Skip to ...|politics|[0.9441271568827793,0.00510...|  0.0|       0.0|\n",
      "|   Sections SEARCH Skip to ...|politics|[0.9417085251681173,0.01749...|  0.0|       0.0|\n",
      "|   Sections SEARCH Skip to ...|politics|[0.9085166259262256,0.01524...|  0.0|       0.0|\n",
      "|   Sections SEARCH Skip to ...| medical|[0.9053343300454725,0.00703...|  3.0|       0.0|\n",
      "+------------------------------+--------+------------------------------+-----+----------+\n",
      "only showing top 10 rows\n",
      "\n",
      "+--------------------+--------+--------------------+--------------------+--------------------+--------------------+--------------------+-----+--------------------+--------------------+----------+\n",
      "|               value|category|               words|           filtered1|            filtered|         rawFeatures|            features|label|       rawPrediction|         probability|prediction|\n",
      "+--------------------+--------+--------------------+--------------------+--------------------+--------------------+--------------------+-----+--------------------+--------------------+----------+\n",
      "|             NYTi...|business|[nytimes, com, no...|[nytimes, com, lo...|[longer, supports...|(1000,[1,3,12,14,...|(1000,[1,3,12,14,...|  2.0|[-0.2723563916907...|[0.18342135844383...|       1.0|\n",
      "|             NYTi...|business|[nytimes, com, no...|[nytimes, com, lo...|[longer, supports...|(1000,[0,1,2,3,6,...|(1000,[0,1,2,3,6,...|  2.0|[-0.9744767770648...|[0.01599203160014...|       2.0|\n",
      "|             NYTi...|business|[nytimes, com, no...|[nytimes, com, lo...|[longer, supports...|(1000,[0,1,2,3,4,...|(1000,[0,1,2,3,4,...|  2.0|[-0.2664417600493...|[0.17718084200482...|       1.0|\n",
      "|        Robin Wig...|business|[robin, wiggleswo...|[robin, wiggleswo...|[robin, wiggleswo...|(1000,[0,2,3,4,7,...|(1000,[0,2,3,4,7,...|  2.0|[-7.8349382082806...|[0.24117292224768...|       2.0|\n",
      "|   Sections SEARC...|business|[sections, search...|[sections, search...|[design, museum, ...|(1000,[0,1,2,3,4,...|(1000,[0,1,2,3,4,...|  2.0|[-0.8256344658807...|[0.05965354264096...|       2.0|\n",
      "|   Sections SEARC...|business|[sections, search...|[sections, search...|[movie, oct, 23, ...|(1000,[0,3,4,6,7,...|(1000,[0,3,4,6,7,...|  2.0|[-0.7819930458257...|[0.10257139567989...|       2.0|\n",
      "|   Sections SEARC...|business|[sections, search...|[sections, search...|[feature, daily, ...|(1000,[0,1,2,3,7,...|(1000,[0,1,2,3,7,...|  2.0|[-3.0784606684366...|[2.93350891277977...|       1.0|\n",
      "|   Sections SEARC...|business|[sections, search...|[sections, search...|[theater, theater...|(1000,[0,1,2,3,4,...|(1000,[0,1,2,3,4,...|  2.0|[-0.8034327577753...|[0.06329028815819...|       1.0|\n",
      "|             NYTi...|business|[nytimes, com, no...|[nytimes, com, lo...|[longer, supports...|(1000,[1,4,6,9,10...|(1000,[1,4,6,9,10...|  2.0|[-0.3879637594697...|[0.12703006946713...|       2.0|\n",
      "|   Sections SEARC...|business|[sections, search...|[sections, search...|[style, gay, bar,...|(1000,[0,4,6,7,8,...|(1000,[0,4,6,7,8,...|  2.0|[-0.0485084433078...|[0.19459096294500...|       2.0|\n",
      "+--------------------+--------+--------------------+--------------------+--------------------+--------------------+--------------------+-----+--------------------+--------------------+----------+\n",
      "only showing top 10 rows\n",
      "\n"
     ]
    }
   ],
   "source": [
    "predictions = lrModel.transform(testData)\n",
    "predictions.filter(predictions['prediction'] == 0) \\\n",
    "    .select(\"value\",\"category\",\"probability\",\"label\",\"prediction\") \\\n",
    "    .orderBy(\"probability\", ascending=False) \\\n",
    "    .show(n = 10, truncate = 30)\n",
    "predictions.show(10)"
   ]
  },
  {
   "cell_type": "code",
   "execution_count": 18,
   "id": "e98a5304",
   "metadata": {},
   "outputs": [],
   "source": [
    "pipelineFit2 = pipeline.fit(unknown_data)\n",
    "unknown_dataset = pipelineFit2.transform(unknown_data)"
   ]
  },
  {
   "cell_type": "code",
   "execution_count": 19,
   "id": "a2490fd0",
   "metadata": {},
   "outputs": [
    {
     "name": "stdout",
     "output_type": "stream",
     "text": [
      "+------------------------------+--------+------------------------------+-----+----------+\n",
      "|                         value|category|                   probability|label|prediction|\n",
      "+------------------------------+--------+------------------------------+-----+----------+\n",
      "|   Sections SEARCH Skip to ...|politics|[0.9078692900477618,0.02405...|  2.0|       0.0|\n",
      "|   Sections SEARCH Skip to ...|politics|[0.8756092637916708,0.00908...|  2.0|       0.0|\n",
      "|   Sections SEARCH Skip to ...|business|[0.8260157131029408,0.03995...|  0.0|       0.0|\n",
      "|   Sections SEARCH Skip to ...|politics|[0.8182855057512108,0.04782...|  2.0|       0.0|\n",
      "|   Sections SEARCH Skip to ...|politics|[0.8182855057512108,0.04782...|  2.0|       0.0|\n",
      "|   Sections SEARCH Skip to ...|politics|[0.7519178488712814,0.02285...|  2.0|       0.0|\n",
      "|   Sections SEARCH Skip to ...|politics|[0.6568550406330272,0.14343...|  2.0|       0.0|\n",
      "|   Sections SEARCH Skip to ...|politics|[0.6107036144878749,0.10244...|  2.0|       0.0|\n",
      "|   Sections SEARCH Skip to ...|politics|[0.5965929760067074,0.17130...|  2.0|       0.0|\n",
      "|   Sections SEARCH Skip to ...|politics|[0.5251441073311047,0.12395...|  2.0|       0.0|\n",
      "+------------------------------+--------+------------------------------+-----+----------+\n",
      "only showing top 10 rows\n",
      "\n",
      "+--------------------+--------+--------------------+--------------------+--------------------+--------------------+--------------------+-----+--------------------+--------------------+----------+\n",
      "|               value|category|               words|           filtered1|            filtered|         rawFeatures|            features|label|       rawPrediction|         probability|prediction|\n",
      "+--------------------+--------+--------------------+--------------------+--------------------+--------------------+--------------------+-----+--------------------+--------------------+----------+\n",
      "|   Sections SEARC...|business|[sections, search...|[sections, search...|[industrial, revo...|(1000,[0,1,3,4,7,...|(1000,[0,1,3,4,7,...|  0.0|[1.16181216836094...|[0.44010749262012...|       2.0|\n",
      "|             NYTi...|business|[nytimes, com, no...|[nytimes, com, lo...|[longer, supports...|(1000,[0,3,4,7,8,...|(1000,[0,3,4,7,8,...|  0.0|[-0.5578166617002...|[0.12043852050833...|       2.0|\n",
      "|   Sections SEARC...|business|[sections, search...|[sections, search...|[kit, include, co...|(1000,[0,1,3,7,8,...|(1000,[0,1,3,7,8,...|  0.0|[2.03168056744478...|[0.82601571310294...|       0.0|\n",
      "|             NYTi...|business|[nytimes, com, no...|[nytimes, com, lo...|[longer, supports...|(1000,[0,7,9,10,1...|(1000,[0,7,9,10,1...|  0.0|[-0.5663022775763...|[0.13349073253772...|       1.0|\n",
      "|   Sections SEARC...|business|[sections, search...|[sections, search...|[wells, fargo, te...|(1000,[0,4,7,9,12...|(1000,[0,4,7,9,12...|  0.0|[-0.0255288180811...|[0.18022986779024...|       2.0|\n",
      "|   Sections SEARC...|business|[sections, search...|[sections, search...|[big, deal, big, ...|(1000,[0,2,6,7,10...|(1000,[0,2,6,7,10...|  0.0|[-0.7654625925229...|[0.06414457190412...|       2.0|\n",
      "|   Sections SEARC...|business|[sections, search...|[sections, search...|[etsy, p, tests, ...|(1000,[0,2,3,6,7,...|(1000,[0,2,3,6,7,...|  0.0|[-0.4107635879477...|[0.13737228872303...|       2.0|\n",
      "|   Sections SEARC...|business|[sections, search...|[sections, search...|[international, r...|(1000,[0,1,3,4,7,...|(1000,[0,1,3,4,7,...|  0.0|[0.63371935758844...|[0.37298184609412...|       2.0|\n",
      "|   Sections SEARC...|business|[sections, search...|[sections, search...|[amazon, elephant...|(1000,[0,7,10,11,...|(1000,[0,7,10,11,...|  0.0|[0.07535077331034...|[0.23522207224027...|       2.0|\n",
      "|   Sections SEARC...|business|[sections, search...|[sections, search...|[punishing, wells...|(1000,[0,2,3,4,7,...|(1000,[0,2,3,4,7,...|  0.0|[0.04533414541829...|[0.24652835768913...|       2.0|\n",
      "+--------------------+--------+--------------------+--------------------+--------------------+--------------------+--------------------+-----+--------------------+--------------------+----------+\n",
      "only showing top 10 rows\n",
      "\n"
     ]
    }
   ],
   "source": [
    "predictions2 = lrModel.transform(unknown_dataset)\n",
    "predictions2.filter(predictions2['prediction'] == 0) \\\n",
    "    .select(\"value\",\"category\",\"probability\",\"label\",\"prediction\") \\\n",
    "    .orderBy(\"probability\", ascending=False) \\\n",
    "    .show(n = 10, truncate = 30)\n",
    "predictions2.show(10)"
   ]
  },
  {
   "cell_type": "code",
   "execution_count": 20,
   "id": "fa2e023f",
   "metadata": {},
   "outputs": [
    {
     "name": "stdout",
     "output_type": "stream",
     "text": [
      "-------Accuracy of test data using logistic_regression-----: 62.007149838196376%\n",
      "-------Accuracy of unknown data using logistic_regression-----: 11.055148555148556%\n"
     ]
    }
   ],
   "source": [
    "from pyspark.ml.evaluation import MulticlassClassificationEvaluator\n",
    "evaluator = MulticlassClassificationEvaluator(predictionCol=\"prediction\")\n",
    "#evaluator.evaluate(predictions)\n",
    "print(\"-------Accuracy of test data using logistic_regression-----: \" + str(evaluator.evaluate(predictions)*100)+\"%\")\n",
    "\n",
    "\n",
    "from pyspark.ml.evaluation import MulticlassClassificationEvaluator\n",
    "evaluator = MulticlassClassificationEvaluator(predictionCol=\"prediction\")\n",
    "#evaluator.evaluate(predictions2)\n",
    "print(\"-------Accuracy of unknown data using logistic_regression-----: \" + str(evaluator.evaluate(predictions2)*100)+\"%\")\n",
    "\n",
    "#training the data -- Naive Bayes\n",
    "from pyspark.ml.classification import NaiveBayes\n",
    "nb = NaiveBayes(smoothing=1)\n",
    "model = nb.fit(trainingData)\n"
   ]
  },
  {
   "cell_type": "code",
   "execution_count": 21,
   "id": "a53ddbe9",
   "metadata": {},
   "outputs": [
    {
     "name": "stdout",
     "output_type": "stream",
     "text": [
      "+------------------------------+--------+------------------------------+-----+----------+\n",
      "|                         value|category|                   probability|label|prediction|\n",
      "+------------------------------+--------+------------------------------+-----+----------+\n",
      "|        President Trump (@P...|politics|[1.0,1.0088217456763839E-22...|  0.0|       0.0|\n",
      "|   Sections SEARCH Skip to ...|politics|[1.0,2.3853534848808864E-25...|  0.0|       0.0|\n",
      "|   Sections SEARCH Skip to ...|politics|[1.0,7.761528270890524E-26,...|  0.0|       0.0|\n",
      "|   Sections SEARCH Skip to ...|politics|[1.0,2.7352875038364617E-26...|  0.0|       0.0|\n",
      "|   Sections SEARCH Skip to ...|politics|[1.0,4.9390977486455355E-27...|  0.0|       0.0|\n",
      "|             NYTimes.com no...|politics|[1.0,5.177042629739778E-29,...|  0.0|       0.0|\n",
      "|   Sections SEARCH Skip to ...|politics|[1.0,1.3327914171670283E-29...|  0.0|       0.0|\n",
      "|   Sections SEARCH Skip to ...|politics|[1.0,1.3327914171670283E-29...|  0.0|       0.0|\n",
      "|   Sections SEARCH Skip to ...|politics|[1.0,6.079798205085851E-32,...|  0.0|       0.0|\n",
      "|             NYTimes.com no...|politics|[1.0,1.678406847044568E-33,...|  0.0|       0.0|\n",
      "+------------------------------+--------+------------------------------+-----+----------+\n",
      "only showing top 10 rows\n",
      "\n",
      "+--------------------+--------+--------------------+--------------------+--------------------+--------------------+--------------------+-----+--------------------+--------------------+----------+\n",
      "|               value|category|               words|           filtered1|            filtered|         rawFeatures|            features|label|       rawPrediction|         probability|prediction|\n",
      "+--------------------+--------+--------------------+--------------------+--------------------+--------------------+--------------------+-----+--------------------+--------------------+----------+\n",
      "|             NYTi...|business|[nytimes, com, no...|[nytimes, com, lo...|[longer, supports...|(1000,[1,3,12,14,...|(1000,[1,3,12,14,...|  2.0|[-2302.1236371518...|[2.53105337292235...|       2.0|\n",
      "|             NYTi...|business|[nytimes, com, no...|[nytimes, com, lo...|[longer, supports...|(1000,[0,1,2,3,6,...|(1000,[0,1,2,3,6,...|  2.0|[-11463.065630519...|[3.51767353500233...|       2.0|\n",
      "|             NYTi...|business|[nytimes, com, no...|[nytimes, com, lo...|[longer, supports...|(1000,[0,1,2,3,4,...|(1000,[0,1,2,3,4,...|  2.0|[-12000.113658224...|[1.34950725326191...|       2.0|\n",
      "|        Robin Wig...|business|[robin, wiggleswo...|[robin, wiggleswo...|[robin, wiggleswo...|(1000,[0,2,3,4,7,...|(1000,[0,2,3,4,7,...|  2.0|[-5530.8925009471...|[3.24551686608664...|       2.0|\n",
      "|   Sections SEARC...|business|[sections, search...|[sections, search...|[design, museum, ...|(1000,[0,1,2,3,4,...|(1000,[0,1,2,3,4,...|  2.0|[-20842.076333941...|[7.11541801868820...|       1.0|\n",
      "|   Sections SEARC...|business|[sections, search...|[sections, search...|[movie, oct, 23, ...|(1000,[0,3,4,6,7,...|(1000,[0,3,4,6,7,...|  2.0|[-14892.055096119...|[8.04902711941476...|       1.0|\n",
      "|   Sections SEARC...|business|[sections, search...|[sections, search...|[feature, daily, ...|(1000,[0,1,2,3,7,...|(1000,[0,1,2,3,7,...|  2.0|[-19179.255934688...|[1.53743197193189...|       1.0|\n",
      "|   Sections SEARC...|business|[sections, search...|[sections, search...|[theater, theater...|(1000,[0,1,2,3,4,...|(1000,[0,1,2,3,4,...|  2.0|[-22954.715035520...|[3.45883055716674...|       1.0|\n",
      "|             NYTi...|business|[nytimes, com, no...|[nytimes, com, lo...|[longer, supports...|(1000,[1,4,6,9,10...|(1000,[1,4,6,9,10...|  2.0|[-3783.7207167891...|[9.48795799296035...|       2.0|\n",
      "|   Sections SEARC...|business|[sections, search...|[sections, search...|[style, gay, bar,...|(1000,[0,4,6,7,8,...|(1000,[0,4,6,7,8,...|  2.0|[-11040.886895689...|[3.57136287783001...|       1.0|\n",
      "+--------------------+--------+--------------------+--------------------+--------------------+--------------------+--------------------+-----+--------------------+--------------------+----------+\n",
      "only showing top 10 rows\n",
      "\n"
     ]
    }
   ],
   "source": [
    "predictions3 = model.transform(testData)\n",
    "predictions3.filter(predictions3['prediction'] == 0) \\\n",
    "    .select(\"value\",\"category\",\"probability\",\"label\",\"prediction\") \\\n",
    "    .orderBy(\"probability\", ascending=False) \\\n",
    "    .show(n = 10, truncate = 30)\n",
    "predictions3.show(10)"
   ]
  },
  {
   "cell_type": "code",
   "execution_count": 22,
   "id": "8c3d36b7",
   "metadata": {},
   "outputs": [
    {
     "name": "stdout",
     "output_type": "stream",
     "text": [
      "-------Accuracy of test data using naive_bayes-----: 64.2304340042251%\n"
     ]
    }
   ],
   "source": [
    "evaluator = MulticlassClassificationEvaluator(predictionCol=\"prediction\")\n",
    "print(\"-------Accuracy of test data using naive_bayes-----: \" + str(evaluator.evaluate(predictions3)*100)+\"%\")\n"
   ]
  },
  {
   "cell_type": "code",
   "execution_count": 23,
   "id": "da10c68a",
   "metadata": {},
   "outputs": [
    {
     "name": "stdout",
     "output_type": "stream",
     "text": [
      "+------------------------------+--------+------------------------------+-----+----------+\n",
      "|                         value|category|                   probability|label|prediction|\n",
      "+------------------------------+--------+------------------------------+-----+----------+\n",
      "|   Sections SEARCH Skip to ...|politics|[1.0,2.0034883732711258E-17...|  2.0|       0.0|\n",
      "|   Sections SEARCH Skip to ...|business|[1.0,1.3420024395784487E-53...|  0.0|       0.0|\n",
      "|   Sections SEARCH Skip to ...|politics|[1.0,1.1615753403061956E-53...|  2.0|       0.0|\n",
      "|   Sections SEARCH Skip to ...|politics|[1.0,5.709716963079426E-68,...|  2.0|       0.0|\n",
      "|   Sections SEARCH Skip to ...|politics|[1.0,6.264837857255992E-96,...|  2.0|       0.0|\n",
      "|   Sections SEARCH Skip to ...|politics|[0.9999999999999993,1.01844...|  2.0|       0.0|\n",
      "|   Sections SEARCH Skip to ...|politics|[0.9999999999999993,1.01844...|  2.0|       0.0|\n",
      "|   Sections SEARCH Skip to ...|politics|[0.9999999999975344,3.10781...|  2.0|       0.0|\n",
      "|   Sections SEARCH Skip to ...|  sports|[0.999999982840431,4.916071...|  3.0|       0.0|\n",
      "|   Sections SEARCH Skip to ...|politics|[0.9999999760247548,2.03880...|  2.0|       0.0|\n",
      "+------------------------------+--------+------------------------------+-----+----------+\n",
      "only showing top 10 rows\n",
      "\n",
      "+--------------------+--------+--------------------+--------------------+--------------------+--------------------+--------------------+-----+--------------------+--------------------+----------+\n",
      "|               value|category|               words|           filtered1|            filtered|         rawFeatures|            features|label|       rawPrediction|         probability|prediction|\n",
      "+--------------------+--------+--------------------+--------------------+--------------------+--------------------+--------------------+-----+--------------------+--------------------+----------+\n",
      "|   Sections SEARC...|business|[sections, search...|[sections, search...|[industrial, revo...|(1000,[0,1,3,4,7,...|(1000,[0,1,3,4,7,...|  0.0|[-8449.3814088943...|[1.23065381769325...|       2.0|\n",
      "|             NYTi...|business|[nytimes, com, no...|[nytimes, com, lo...|[longer, supports...|(1000,[0,3,4,7,8,...|(1000,[0,3,4,7,8,...|  0.0|[-5388.1980469800...|[1.90337354099053...|       2.0|\n",
      "|   Sections SEARC...|business|[sections, search...|[sections, search...|[kit, include, co...|(1000,[0,1,3,7,8,...|(1000,[0,1,3,7,8,...|  0.0|[-5342.5614755508...|[1.0,1.3420024395...|       0.0|\n",
      "|             NYTi...|business|[nytimes, com, no...|[nytimes, com, lo...|[longer, supports...|(1000,[0,7,9,10,1...|(1000,[0,7,9,10,1...|  0.0|[-4891.7742825998...|[2.21534614459865...|       1.0|\n",
      "|   Sections SEARC...|business|[sections, search...|[sections, search...|[wells, fargo, te...|(1000,[0,4,7,9,12...|(1000,[0,4,7,9,12...|  0.0|[-4271.8313437911...|[1.01100088156663...|       2.0|\n",
      "|   Sections SEARC...|business|[sections, search...|[sections, search...|[big, deal, big, ...|(1000,[0,2,6,7,10...|(1000,[0,2,6,7,10...|  0.0|[-4419.5105914732...|[3.77067781885601...|       2.0|\n",
      "|   Sections SEARC...|business|[sections, search...|[sections, search...|[etsy, p, tests, ...|(1000,[0,2,3,6,7,...|(1000,[0,2,3,6,7,...|  0.0|[-4438.6242072250...|[9.32468805905897...|       2.0|\n",
      "|   Sections SEARC...|business|[sections, search...|[sections, search...|[international, r...|(1000,[0,1,3,4,7,...|(1000,[0,1,3,4,7,...|  0.0|[-3835.5764269064...|[1.23284735643057...|       2.0|\n",
      "|   Sections SEARC...|business|[sections, search...|[sections, search...|[amazon, elephant...|(1000,[0,7,10,11,...|(1000,[0,7,10,11,...|  0.0|[-3425.3805416466...|[1.79804703713432...|       2.0|\n",
      "|   Sections SEARC...|business|[sections, search...|[sections, search...|[punishing, wells...|(1000,[0,2,3,4,7,...|(1000,[0,2,3,4,7,...|  0.0|[-3820.2225403952...|[3.24646869191630...|       2.0|\n",
      "+--------------------+--------+--------------------+--------------------+--------------------+--------------------+--------------------+-----+--------------------+--------------------+----------+\n",
      "only showing top 10 rows\n",
      "\n"
     ]
    }
   ],
   "source": [
    "predictions4 = model.transform(unknown_dataset)\n",
    "predictions4.filter(predictions4['prediction'] == 0) \\\n",
    "    .select(\"value\",\"category\",\"probability\",\"label\",\"prediction\") \\\n",
    "    .orderBy(\"probability\", ascending=False) \\\n",
    "    .show(n = 10, truncate = 30)\n",
    "predictions4.show(10)"
   ]
  },
  {
   "cell_type": "code",
   "execution_count": 24,
   "id": "a8fe317d",
   "metadata": {},
   "outputs": [
    {
     "name": "stdout",
     "output_type": "stream",
     "text": [
      "-------Accuracy of unknown data using naive_bayes-----: 9.173913043478262%\n"
     ]
    }
   ],
   "source": [
    "evaluator = MulticlassClassificationEvaluator(predictionCol=\"prediction\")\n",
    "print(\"-------Accuracy of unknown data using naive_bayes-----: \" + str(evaluator.evaluate(predictions4)*100)+\"%\")"
   ]
  },
  {
   "cell_type": "code",
   "execution_count": null,
   "id": "044f0299",
   "metadata": {},
   "outputs": [],
   "source": []
  },
  {
   "cell_type": "code",
   "execution_count": null,
   "id": "0aa2f8ab",
   "metadata": {},
   "outputs": [],
   "source": []
  }
 ],
 "metadata": {
  "kernelspec": {
   "display_name": "Python 3 (ipykernel)",
   "language": "python",
   "name": "python3"
  },
  "language_info": {
   "codemirror_mode": {
    "name": "ipython",
    "version": 3
   },
   "file_extension": ".py",
   "mimetype": "text/x-python",
   "name": "python",
   "nbconvert_exporter": "python",
   "pygments_lexer": "ipython3",
   "version": "3.10.0"
  }
 },
 "nbformat": 4,
 "nbformat_minor": 5
}
